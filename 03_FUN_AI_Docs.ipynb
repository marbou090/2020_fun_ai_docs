{
 "cells": [
  {
   "cell_type": "markdown",
   "metadata": {},
   "source": [
    "# MLP\n",
    "\n",
    "\n",
    "## 用語解説\n",
    "\n",
    "- MLPとは\n",
    "\n",
    "    Multi Layer Perceptron の略で、日本語にすると多層パーセプトロン。\n",
    "\n",
    "- パーセプトロン\n",
    "\n",
    "- 人工ニューロン\n",
    "\n",
    "- 活性化関数"
   ]
  },
  {
   "cell_type": "markdown",
   "metadata": {},
   "source": [
    "資料の流れ\n",
    "\n",
    "前回までで環境構築と深層学習のざっくりとした説明をした\n",
    "\n",
    "今回からは、実際に深層学習に触れていこうと思う\n",
    "\n",
    "まず今回は、基礎となる浅いニューラルネットワークについてみていく。\n",
    "- パーセプトロンとは\n",
    "- 重みとバイアス\n",
    "- ニューラルネットワーク\n",
    "- 活性化関数\n",
    "- 誤差関数\n",
    "- 最適化関数\n",
    "    - 最急降下法\n",
    "    - 確率的勾配法(SGD)\n",
    "- 誤差逆伝播"
   ]
  },
  {
   "cell_type": "markdown",
   "metadata": {},
   "source": [
    "### パーセプトロン\n",
    "パーセプトロンとは1957年に考案されたアルゴリズムで、現在のディープラーニングの基礎になっている重要なものである。\n",
    "\n",
    "パーセプトロンは複数の信号を受け取り、1つの信号を出力をする。ここでの信号とは、データや電流などの流れをもつものだとイメージすると良い。\n",
    "\n",
    "簡単のため、入力が2つの場合のパーセプトロンを考える。パーセプトロンの入力をそれぞれ$x_1$,$x_2$とし、それらの流れやすさ。つまり、重みを$w_1$,$w_2$。出力を$y$とする\n",
    "\n",
    "$$\n",
    "y = \\left\\{\n",
    "    \\begin{array}{cc}\n",
    "    0  &(w_1x_1 + w_2x_2 \\le 0)\\\\\n",
    "    1  &(w_1x_1 + w_2x_2 > 0)\n",
    "    \\end{array}\n",
    "    \\right.\n",
    "$$\n",
    "\n",
    "$y$の出力は0か1の2通りである。\n"
   ]
  },
  {
   "cell_type": "code",
   "execution_count": 5,
   "metadata": {},
   "outputs": [],
   "source": [
    "def perceptlon(x_1, x_2):\n",
    "    w_1, w_2 = 1, 1 # 重みを変えると同じ入力でもyの値が変わる\n",
    "    result = w_1*x_1 + w_2*x_2\n",
    "    y = 0\n",
    "    if result > 0:\n",
    "        y = 1\n",
    "    return y"
   ]
  },
  {
   "cell_type": "code",
   "execution_count": 6,
   "metadata": {},
   "outputs": [
    {
     "name": "stdout",
     "output_type": "stream",
     "text": "0\n"
    }
   ],
   "source": [
    "print(perceptlon(1,-1))"
   ]
  },
  {
   "cell_type": "code",
   "execution_count": null,
   "metadata": {},
   "outputs": [],
   "source": []
  }
 ],
 "metadata": {
  "kernelspec": {
   "display_name": "Python 3.7.5 64-bit ('pytorch': conda)",
   "language": "python",
   "name": "python37564bitpytorchcondac1588a0183c145a7ad887ad140edf980"
  },
  "language_info": {
   "codemirror_mode": {
    "name": "ipython",
    "version": 3
   },
   "file_extension": ".py",
   "mimetype": "text/x-python",
   "name": "python",
   "nbconvert_exporter": "python",
   "pygments_lexer": "ipython3",
   "version": "3.7.4-final"
  }
 },
 "nbformat": 4,
 "nbformat_minor": 2
}