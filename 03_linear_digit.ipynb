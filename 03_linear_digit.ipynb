{
 "cells": [
  {
   "cell_type": "code",
   "execution_count": 1,
   "metadata": {},
   "outputs": [],
   "source": [
    "import torch\n",
    "import torch.nn as nn\n",
    "import torch.optim as optim\n",
    "from torch.utils.data import (Dataset, DataLoader, TensorDataset)\n",
    "\n",
    "import pandas as pd\n",
    "from sklearn.model_selection import train_test_split\n",
    "\n",
    "from tqdm import tqdm"
   ]
  },
  {
   "cell_type": "markdown",
   "metadata": {},
   "source": [
    "### pandasでcsvファイルの読み込み\n",
    "pandasはデータ分析をする際に使うライブラリのこと。csvファイルはpandasを使って読み込む。\n",
    "\n",
    "    df = pd.read_csv(\"path\")\n",
    "と書くとpathで指定したcsvファイルを、dfにいれてくれる。dfは``DataFrame``型になる。\n",
    "\n",
    "引数`` dtype``で型の指定を行える。しかし、ここで``dtype=str``を指定しても欠損値は``float``型で入るので注意。\n",
    "\n",
    "    df = pd.read_csv(\"path\", dytype = np.float32)\n",
    "[公式ドキュメント](https://pandas.pydata.org/pandas-docs/stable/reference/api/pandas.read_csv.html)"
   ]
  },
  {
   "cell_type": "code",
   "execution_count": null,
   "metadata": {},
   "outputs": [],
   "source": [
    "train = pd.read_csv(r\"../input/train.csv\",dtype = np.float32)"
   ]
  },
  {
   "cell_type": "markdown",
   "metadata": {},
   "source": [
    "### pandasのインデックス参照で行・列を指定して取得\n",
    "    print(df['列名','列名',...])\n",
    "\n",
    "列を``pandas.DataFrame``として取得できる。選択した列が１つのみの場合、``pandas.Series``として取得される。\n",
    "\n",
    "    print(df.列名)\n",
    "選択する列が１つの場合はこれでも取得できる。ただし、列名が既存のメソッド名や属性名などとかぶるとそちらが優先されるので注意。\n"
   ]
  },
  {
   "cell_type": "code",
   "execution_count": null,
   "metadata": {},
   "outputs": [],
   "source": [
    "# split data into features(pixels) and labels(numbers from 0 to 9)\n",
    "targets_numpy = train.label.values\n",
    "features_numpy = train.loc[:,train.columns != \"label\"].values/255 # normalization\n"
   ]
  },
  {
   "cell_type": "code",
   "execution_count": null,
   "metadata": {},
   "outputs": [],
   "source": [
    "# train test split. Size of train data is 80% and size of test data is 20%. \n",
    "features_train, features_test, targets_train, targets_test = train_test_split(features_numpy,\n",
    "                                                                             targets_numpy,\n",
    "                                                                             test_size = 0.2,\n",
    "                                                                             random_state = 42) \n"
   ]
  },
  {
   "cell_type": "code",
   "execution_count": null,
   "metadata": {},
   "outputs": [],
   "source": [
    "class MLP(nn.Module):\n",
    "    def __init__(self, input_dim, output_dim):\n",
    "        super(MLP, self).__init__()\n",
    "        self.mlp = nn.Sequential(\n",
    "            nn.Linear(input_dim, 64)\n",
    "            nn.ReLU()\n",
    "            nn.Linear(64, 64)\n",
    "            nn.ReLU()\n",
    "            nn.Linear(64, output_dim)\n",
    "            nn.Softmax()\n",
    "        )\n",
    "    def forward(self, x):\n",
    "        return self.mlp(x)"
   ]
  },
  {
   "cell_type": "code",
   "execution_count": null,
   "metadata": {},
   "outputs": [],
   "source": [
    "input_dim = 28*28\n",
    "output_dim = 10\n",
    "\n",
    "net = MLP(input_dim, output_dim)\n",
    "loss_fn = nn.CrossEntropyLoss()\n",
    "\n",
    "lr = 0.001\n",
    "optimizer = optim.Adam(net.parameters(), lr=lr)"
   ]
  },
  {
   "cell_type": "code",
   "execution_count": null,
   "metadata": {},
   "outputs": [],
   "source": [
    "def train_net(num_epochs):\n",
    "    for epoch in range(num_epochs)\n"
   ]
  }
 ],
 "metadata": {
  "language_info": {
   "codemirror_mode": {
    "name": "ipython",
    "version": 3
   },
   "file_extension": ".py",
   "mimetype": "text/x-python",
   "name": "python",
   "nbconvert_exporter": "python",
   "pygments_lexer": "ipython3",
   "version": "3.7.5-final"
  },
  "orig_nbformat": 2,
  "kernelspec": {
   "name": "python37564bitpytorchcondac1588a0183c145a7ad887ad140edf980",
   "display_name": "Python 3.7.5 64-bit ('pytorch': conda)"
  }
 },
 "nbformat": 4,
 "nbformat_minor": 2
}